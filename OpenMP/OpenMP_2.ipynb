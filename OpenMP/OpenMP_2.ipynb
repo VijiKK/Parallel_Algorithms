{
  "nbformat": 4,
  "nbformat_minor": 0,
  "metadata": {
    "colab": {
      "provenance": [],
      "gpuType": "T4",
      "authorship_tag": "ABX9TyN3R3dVw8ITMeJZ09YBcbuL",
      "include_colab_link": true
    },
    "kernelspec": {
      "name": "python3",
      "display_name": "Python 3"
    },
    "language_info": {
      "name": "python"
    },
    "accelerator": "GPU"
  },
  "cells": [
    {
      "cell_type": "markdown",
      "metadata": {
        "id": "view-in-github",
        "colab_type": "text"
      },
      "source": [
        "<a href=\"https://colab.research.google.com/github/VijiKK/Parallel_Algorithms/blob/main/OpenMP_2.ipynb\" target=\"_parent\"><img src=\"https://colab.research.google.com/assets/colab-badge.svg\" alt=\"Open In Colab\"/></a>"
      ]
    },
    {
      "cell_type": "markdown",
      "source": [
        "To execute OpenMP code in Colab, first install the prerequsites.\n",
        "\n",
        "Ref_1: https://siddhigate.hashnode.dev/how-to-run-cuda-and-openmp-code-on-google-colaboratory\n",
        "\n",
        "Ref_2: https://medium.com/@iphoenix179/running-cuda-c-c-in-jupyter-or-how-to-run-nvcc-in-google-colab-663d33f53772"
      ],
      "metadata": {
        "id": "hhbKXvts10xT"
      }
    },
    {
      "cell_type": "markdown",
      "source": [
        "**OpenMP (Open Multi-Processing):**\n",
        "\n",
        "OpenMP is an API (Application Programming Interface) that provides a simple and flexible way to add parallelism to C, C++, and Fortran programs. It allows developers to express parallelism through compiler directives, making it easier to write multi-threaded programs for shared-memory architectures.\n",
        "\n",
        "**Example Code:**\n",
        "\n",
        "Here's a simple example of using OpenMP in C to parallelize a loop that calculates the sum of an array using multiple threads:"
      ],
      "metadata": {
        "id": "RrsOfj721vkD"
      }
    },
    {
      "cell_type": "code",
      "execution_count": 1,
      "metadata": {
        "colab": {
          "base_uri": "https://localhost:8080/"
        },
        "id": "iqmtE9uy1pV-",
        "outputId": "43715c26-f841-4586-f8f9-09f841c711b2"
      },
      "outputs": [
        {
          "output_type": "stream",
          "name": "stdout",
          "text": [
            "16 packages can be upgraded. Run 'apt list --upgradable' to see them.\n",
            "--2023-08-28 01:54:23--  https://developer.nvidia.com/compute/cuda/8.0/Prod2/local_installers/cuda-repo-ubuntu1604-8-0-local-ga2_8.0.61-1_amd64-deb\n",
            "Resolving developer.nvidia.com (developer.nvidia.com)... 152.195.19.142\n",
            "Connecting to developer.nvidia.com (developer.nvidia.com)|152.195.19.142|:443... connected.\n",
            "HTTP request sent, awaiting response... 301 Moved Permanently\n",
            "Location: https://developer.nvidia.com/downloads/compute/cuda/8.0/Prod2/local_installers/cuda-repo-ubuntu1604-8-0-local-ga2_8.0.61-1_amd64-deb [following]\n",
            "--2023-08-28 01:54:23--  https://developer.nvidia.com/downloads/compute/cuda/8.0/Prod2/local_installers/cuda-repo-ubuntu1604-8-0-local-ga2_8.0.61-1_amd64-deb\n",
            "Reusing existing connection to developer.nvidia.com:443.\n",
            "HTTP request sent, awaiting response... 302 Found\n",
            "Location: https://developer.download.nvidia.com/compute/cuda/8.0/secure/Prod2/local_installers/cuda-repo-ubuntu1604-8-0-local-ga2_8.0.61-1_amd64.deb?20MUydB8TJx6mLS631fNKTbJ4q--bKH9XhezY-j8-t1wKejSHIoPjbaHdyTIJPg3ABG5I50bPSNaC6y4O-Xi9KqiPwdbgQ0I04Gj02lxT4RXrpscpQHzooD7aA-I9wZwS3Mb2jNUT8R23b1hJ124T37qbhCRTtSa3fQaAsuqhZUPRA7VfKqihlAyC2TgAtenaNNbqToWhOJXKCLTTSGFG4g2RQ== [following]\n",
            "--2023-08-28 01:54:23--  https://developer.download.nvidia.com/compute/cuda/8.0/secure/Prod2/local_installers/cuda-repo-ubuntu1604-8-0-local-ga2_8.0.61-1_amd64.deb?20MUydB8TJx6mLS631fNKTbJ4q--bKH9XhezY-j8-t1wKejSHIoPjbaHdyTIJPg3ABG5I50bPSNaC6y4O-Xi9KqiPwdbgQ0I04Gj02lxT4RXrpscpQHzooD7aA-I9wZwS3Mb2jNUT8R23b1hJ124T37qbhCRTtSa3fQaAsuqhZUPRA7VfKqihlAyC2TgAtenaNNbqToWhOJXKCLTTSGFG4g2RQ==\n",
            "Resolving developer.download.nvidia.com (developer.download.nvidia.com)... 152.195.19.142\n",
            "Connecting to developer.download.nvidia.com (developer.download.nvidia.com)|152.195.19.142|:443... connected.\n",
            "HTTP request sent, awaiting response... 200 OK\n",
            "Length: 1913589814 (1.8G) [application/x-deb]\n",
            "Saving to: ‘cuda-repo-ubuntu1604-8-0-local-ga2_8.0.61-1_amd64-deb’\n",
            "\n",
            "cuda-repo-ubuntu160 100%[===================>]   1.78G   211MB/s    in 7.8s    \n",
            "\n",
            "2023-08-28 01:54:31 (234 MB/s) - ‘cuda-repo-ubuntu1604-8-0-local-ga2_8.0.61-1_amd64-deb’ saved [1913589814/1913589814]\n",
            "\n",
            "Selecting previously unselected package cuda-repo-ubuntu1604-8-0-local-ga2.\n",
            "(Reading database ... 120831 files and directories currently installed.)\n",
            "Preparing to unpack cuda-repo-ubuntu1604-8-0-local-ga2_8.0.61-1_amd64-deb ...\n",
            "Unpacking cuda-repo-ubuntu1604-8-0-local-ga2 (8.0.61-1) ...\n",
            "Setting up cuda-repo-ubuntu1604-8-0-local-ga2 (8.0.61-1) ...\n",
            "Warning: The postinst maintainerscript of the package cuda-repo-ubuntu1604-8-0-local-ga2\n",
            "Warning: seems to use apt-key (provided by apt) without depending on gpg, gnupg, or gnupg2.\n",
            "Warning: This will BREAK in the future and should be fixed by the package maintainer(s).\n",
            "Note: Check first if apt-key functionality is needed at all - it probably isn't!\n",
            "Warning: apt-key should not be used in scripts (called from postinst maintainerscript of the package cuda-repo-ubuntu1604-8-0-local-ga2)\n",
            "Warning: apt-key is deprecated. Manage keyring files in trusted.gpg.d instead (see apt-key(8)).\n",
            "OK\n",
            "Warning: apt-key is deprecated. Manage keyring files in trusted.gpg.d instead (see apt-key(8)).\n",
            "OK\n",
            "W: file:/var/cuda-repo-8-0-local-ga2/Release.gpg: Key is stored in legacy trusted.gpg keyring (/etc/apt/trusted.gpg), see the DEPRECATION section in apt-key(8) for details.\n",
            "E: Unable to locate package gcc-5\n",
            "E: Package 'g++-5' has no installation candidate\n",
            "Reading package lists... Done\n",
            "Building dependency tree... Done\n",
            "Reading state information... Done\n",
            "\u001b[1;31mE: \u001b[0mUnable to locate package cuda-8.0\u001b[0m\n",
            "\u001b[1;31mE: \u001b[0mCouldn't find any package by glob 'cuda-8.0'\u001b[0m\n"
          ]
        }
      ],
      "source": [
        "!apt update -qq;\n",
        "!wget https://developer.nvidia.com/compute/cuda/8.0/Prod2/local_installers/cuda-repo-ubuntu1604-8-0-local-ga2_8.0.61-1_amd64-deb;\n",
        "!dpkg -i cuda-repo-ubuntu1604-8-0-local-ga2_8.0.61-1_amd64-deb;\n",
        "!apt-key add /var/cuda-repo-8-0-local-ga2/7fa2af80.pub;\n",
        "!apt-get update -qq;\n",
        "!apt-get install cuda gcc-5 g++-5 -y -qq;\n",
        "!ln -s /usr/bin/gcc-5 /usr/local/cuda/bin/gcc;\n",
        "!ln -s /usr/bin/g++-5 /usr/local/cuda/bin/g++;\n",
        "!apt install cuda-8.0;"
      ]
    },
    {
      "cell_type": "code",
      "source": [
        "!/usr/local/cuda/bin/nvcc --version"
      ],
      "metadata": {
        "colab": {
          "base_uri": "https://localhost:8080/"
        },
        "id": "t7oS29t92YTj",
        "outputId": "174c720a-6667-4e7c-a45f-41824f5ba79e"
      },
      "execution_count": 2,
      "outputs": [
        {
          "output_type": "stream",
          "name": "stdout",
          "text": [
            "nvcc: NVIDIA (R) Cuda compiler driver\n",
            "Copyright (c) 2005-2022 NVIDIA Corporation\n",
            "Built on Wed_Sep_21_10:33:58_PDT_2022\n",
            "Cuda compilation tools, release 11.8, V11.8.89\n",
            "Build cuda_11.8.r11.8/compiler.31833905_0\n"
          ]
        }
      ]
    },
    {
      "cell_type": "code",
      "source": [
        "!pip install git+https://github.com/andreinechaev/nvcc4jupyter.git"
      ],
      "metadata": {
        "colab": {
          "base_uri": "https://localhost:8080/"
        },
        "id": "Ze53rYr_2aSk",
        "outputId": "a98870fb-2429-4828-9729-5c0d8c50f0e7"
      },
      "execution_count": 3,
      "outputs": [
        {
          "output_type": "stream",
          "name": "stdout",
          "text": [
            "Collecting git+https://github.com/andreinechaev/nvcc4jupyter.git\n",
            "  Cloning https://github.com/andreinechaev/nvcc4jupyter.git to /tmp/pip-req-build-cijrazyx\n",
            "  Running command git clone --filter=blob:none --quiet https://github.com/andreinechaev/nvcc4jupyter.git /tmp/pip-req-build-cijrazyx\n",
            "  Resolved https://github.com/andreinechaev/nvcc4jupyter.git to commit 0a71d56e5dce3ff1f0dd2c47c29367629262f527\n",
            "  Preparing metadata (setup.py) ... \u001b[?25l\u001b[?25hdone\n",
            "Building wheels for collected packages: NVCCPlugin\n",
            "  Building wheel for NVCCPlugin (setup.py) ... \u001b[?25l\u001b[?25hdone\n",
            "  Created wheel for NVCCPlugin: filename=NVCCPlugin-0.0.2-py3-none-any.whl size=4295 sha256=28ba31af0c1cd6ae2c211bab7637edb7037189c28062b359c2c422821a1ff2bd\n",
            "  Stored in directory: /tmp/pip-ephem-wheel-cache-rvk4e4te/wheels/a8/b9/18/23f8ef71ceb0f63297dd1903aedd067e6243a68ea756d6feea\n",
            "Successfully built NVCCPlugin\n",
            "Installing collected packages: NVCCPlugin\n",
            "Successfully installed NVCCPlugin-0.0.2\n"
          ]
        }
      ]
    },
    {
      "cell_type": "code",
      "source": [
        "%load_ext nvcc_plugin"
      ],
      "metadata": {
        "colab": {
          "base_uri": "https://localhost:8080/"
        },
        "id": "DAiGmArb2csp",
        "outputId": "7f2b3eae-11d2-48f5-d1ff-5b3b009db3fc"
      },
      "execution_count": 5,
      "outputs": [
        {
          "output_type": "stream",
          "name": "stdout",
          "text": [
            "created output directory at /content/src\n",
            "Out bin /content/result.out\n"
          ]
        }
      ]
    },
    {
      "cell_type": "markdown",
      "source": [
        "In the following example, the #**pragma omp parallel for** directive is used to parallelize the loop. The **omp_get_thread_num()** function returns the ID of the current thread. The **reduction(+:sum)** clause ensures that the **sum** variable is safely updated across threads.\n",
        "\n",
        "When you compile and run this program, you'll see that the loop iterations are distributed among multiple threads, each calculating a part of the sum. The final sum is then computed by aggregating the partial sums from each thread.\n",
        "\n",
        "OpenMP's power lies in its ability to parallelize loops, sections of code, and tasks through compiler directives. It's a convenient way to introduce parallelism to programs without extensive changes to the original codebase."
      ],
      "metadata": {
        "id": "5brqhpQZ19-A"
      }
    },
    {
      "cell_type": "code",
      "source": [
        "%%cuda --name openmp_arraysum.cu\n",
        "\n",
        "#include <stdio.h>\n",
        "#include <omp.h>\n",
        "\n",
        "int main() {\n",
        "    int array[10] = {1, 2, 3, 4, 5, 6, 7, 8, 9, 10};\n",
        "    int sum = 0;\n",
        "\n",
        "    #pragma omp parallel for reduction(+:sum)\n",
        "    for (int i = 0; i < 10; i++) {\n",
        "        printf(\"Thread %d working on index %d\\n\", omp_get_thread_num(), i);\n",
        "        sum += array[i];\n",
        "    }\n",
        "\n",
        "    printf(\"Sum of array elements: %d\\n\", sum);\n",
        "\n",
        "    return 0;\n",
        "}\n"
      ],
      "metadata": {
        "colab": {
          "base_uri": "https://localhost:8080/",
          "height": 35
        },
        "id": "rd2ureMU16uv",
        "outputId": "eeaae202-2044-4392-9cf1-979840761713"
      },
      "execution_count": 6,
      "outputs": [
        {
          "output_type": "execute_result",
          "data": {
            "text/plain": [
              "'File written in /content/src/openmp_arraysum.cu'"
            ],
            "application/vnd.google.colaboratory.intrinsic+json": {
              "type": "string"
            }
          },
          "metadata": {},
          "execution_count": 6
        }
      ]
    },
    {
      "cell_type": "code",
      "source": [
        "!nvcc -Xcompiler=\"-fopenmp\" -arch=sm_75 -o /content/src/openmp_arraysum_output /content/src/openmp_arraysum.cu\n",
        "!/content/src/openmp_arraysum_output"
      ],
      "metadata": {
        "colab": {
          "base_uri": "https://localhost:8080/"
        },
        "id": "Rod_eHdt2zuy",
        "outputId": "bde99abc-dbc3-4a5a-a235-41cfb22a2bea"
      },
      "execution_count": 7,
      "outputs": [
        {
          "output_type": "stream",
          "name": "stdout",
          "text": [
            "Thread 1 working on index 5\n",
            "Thread 1 working on index 6\n",
            "Thread 1 working on index 7\n",
            "Thread 1 working on index 8\n",
            "Thread 1 working on index 9\n",
            "Thread 0 working on index 0\n",
            "Thread 0 working on index 1\n",
            "Thread 0 working on index 2\n",
            "Thread 0 working on index 3\n",
            "Thread 0 working on index 4\n",
            "Sum of array elements: 55\n"
          ]
        }
      ]
    },
    {
      "cell_type": "markdown",
      "source": [
        "**Example - Perform multiple tasks in parallel**"
      ],
      "metadata": {
        "id": "VfR9cKXe2-tI"
      }
    },
    {
      "cell_type": "code",
      "source": [
        "%%cuda --name openmp_tasks.cu\n",
        "\n",
        "//  -*- mode: c++; eval: (c-set-offset (quote cpp-macro) 0)-*-\n",
        "#include <cstdio>\n",
        "#include <omp.h>\n",
        "#include <unistd.h>\n",
        "\n",
        "void do_task(const char* name, int duration)\n",
        "{\n",
        "    printf(\"task %s started By Thread - %d\\n\", name, omp_get_thread_num());\n",
        "    sleep(duration);\n",
        "    printf(\"task %s ended\\n\", name);\n",
        "}\n",
        "\n",
        "int main(int argc, char *argv[])\n",
        "{\n",
        "    double start = omp_get_wtime();\n",
        "    int A, B, C, D, E;\n",
        "   omp_set_num_threads(3);\n",
        "\n",
        "    #pragma omp parallel\n",
        "    {\n",
        "        #pragma omp single\n",
        "        {\n",
        "            #pragma omp task depend(out:A)\n",
        "            do_task(\"A\", 10);\n",
        "\n",
        "            #pragma omp task depend(out:B)\n",
        "            do_task(\"B\", 2);\n",
        "\n",
        "            #pragma omp task depend(out:C)\n",
        "            do_task(\"C\", 2);\n",
        "\n",
        "            #pragma omp task depend(inout:B,C,D)\n",
        "            do_task(\"D\", 5);\n",
        "\n",
        "            #pragma omp task depend(in:A,D)\n",
        "            do_task(\"E\", 1);\n",
        "        }\n",
        "    }\n",
        "\n",
        "    double end = omp_get_wtime();\n",
        "    printf(\"time: %lf\\n\", end-start);\n",
        "    return 0;\n",
        "}"
      ],
      "metadata": {
        "colab": {
          "base_uri": "https://localhost:8080/",
          "height": 35
        },
        "id": "ayQ70lUj29QX",
        "outputId": "efafd803-3300-4295-dcf9-6a5bc8cfacf6"
      },
      "execution_count": 8,
      "outputs": [
        {
          "output_type": "execute_result",
          "data": {
            "text/plain": [
              "'File written in /content/src/openmp_tasks.cu'"
            ],
            "application/vnd.google.colaboratory.intrinsic+json": {
              "type": "string"
            }
          },
          "metadata": {},
          "execution_count": 8
        }
      ]
    },
    {
      "cell_type": "code",
      "source": [
        "!nvcc -Xcompiler=\"-fopenmp\" -arch=sm_75 -o /content/src/openmp_tasks_output /content/src/openmp_tasks.cu\n",
        "!/content/src/openmp_tasks_output"
      ],
      "metadata": {
        "colab": {
          "base_uri": "https://localhost:8080/"
        },
        "id": "4p9ZBkPr3NaZ",
        "outputId": "e7b7757b-ba3d-4d0c-d331-974eec216923"
      },
      "execution_count": 9,
      "outputs": [
        {
          "output_type": "stream",
          "name": "stdout",
          "text": [
            "\u001b[01m\u001b[0m\u001b[01m/content/src/openmp_tasks.cu(17)\u001b[0m: \u001b[01;35mwarning\u001b[0m #177-D: variable \u001b[01m\"A\"\u001b[0m was declared but never referenced\n",
            "\n",
            "\u001b[01m\u001b[0m\u001b[01m/content/src/openmp_tasks.cu(17)\u001b[0m: \u001b[01;35mwarning\u001b[0m #177-D: variable \u001b[01m\"B\"\u001b[0m was declared but never referenced\n",
            "\n",
            "\u001b[01m\u001b[0m\u001b[01m/content/src/openmp_tasks.cu(17)\u001b[0m: \u001b[01;35mwarning\u001b[0m #177-D: variable \u001b[01m\"C\"\u001b[0m was declared but never referenced\n",
            "\n",
            "\u001b[01m\u001b[0m\u001b[01m/content/src/openmp_tasks.cu(17)\u001b[0m: \u001b[01;35mwarning\u001b[0m #177-D: variable \u001b[01m\"D\"\u001b[0m was declared but never referenced\n",
            "\n",
            "\u001b[01m\u001b[0m\u001b[01m/content/src/openmp_tasks.cu(17)\u001b[0m: \u001b[01;35mwarning\u001b[0m #177-D: variable \u001b[01m\"E\"\u001b[0m was declared but never referenced\n",
            "\n",
            "task A started By Thread - 1\n",
            "task B started By Thread - 0\n",
            "task C started By Thread - 2\n",
            "task B ended\n",
            "task C ended\n",
            "task D started By Thread - 2\n",
            "task D ended\n",
            "task A ended\n",
            "task E started By Thread - 1\n",
            "task E ended\n",
            "time: 11.000360\n"
          ]
        }
      ]
    }
  ]
}
