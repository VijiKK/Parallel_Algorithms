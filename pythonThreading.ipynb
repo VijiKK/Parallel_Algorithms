{
  "nbformat": 4,
  "nbformat_minor": 0,
  "metadata": {
    "colab": {
      "provenance": []
    },
    "kernelspec": {
      "name": "python3",
      "display_name": "Python 3"
    },
    "language_info": {
      "name": "python"
    }
  },
  "cells": [
    {
      "cell_type": "markdown",
      "source": [
        "Python's threading module provides a way to create and manage threads, allowing you to perform concurrent execution of tasks. However, due to Python's Global Interpreter Lock (GIL), threads are more suitable for I/O-bound tasks rather than CPU-bound tasks. This means that threads in Python are effective for tasks that spend a lot of time waiting for external resources like I/O operations, but they might not fully utilize multiple cores for compute-intensive tasks.\n",
        "\n",
        "Here's a simple example of using Python's **threading** module:"
      ],
      "metadata": {
        "id": "AJ0TSJIXSFZg"
      }
    },
    {
      "cell_type": "code",
      "execution_count": 1,
      "metadata": {
        "colab": {
          "base_uri": "https://localhost:8080/"
        },
        "id": "HJf19-CMSCv6",
        "outputId": "2fea6011-1c5a-4b67-a732-ea6adc328c67"
      },
      "outputs": [
        {
          "output_type": "stream",
          "name": "stdout",
          "text": [
            "Task A started.\n",
            "Task B started.\n",
            "Task A completed.\n",
            "Task B completed.\n",
            "All tasks completed.\n"
          ]
        }
      ],
      "source": [
        "import threading\n",
        "import time\n",
        "\n",
        "# Define a function that simulates a time-consuming task\n",
        "def task(name):\n",
        "    print(f\"Task {name} started.\")\n",
        "    time.sleep(2)  # Simulate work\n",
        "    print(f\"Task {name} completed.\")\n",
        "\n",
        "# Create two threads to perform the task concurrently\n",
        "thread1 = threading.Thread(target=task, args=(\"A\",))\n",
        "thread2 = threading.Thread(target=task, args=(\"B\",))\n",
        "\n",
        "# Start the threads\n",
        "thread1.start()\n",
        "thread2.start()\n",
        "\n",
        "# Wait for both threads to finish\n",
        "thread1.join()\n",
        "thread2.join()\n",
        "\n",
        "print(\"All tasks completed.\")\n"
      ]
    },
    {
      "cell_type": "markdown",
      "source": [
        "In this example, two threads are created to run the **task** function concurrently. Each thread performs the task with a simulated 2-second delay. The **start()** method is called on each thread to initiate their execution. The **join()** method is used to wait for both threads to complete before moving on to the final print statement.\n",
        "\n",
        "Remember that Python's Global Interpreter Lock (GIL) might limit the true parallel execution of CPU-bound tasks using threads. For CPU-bound tasks, consider using the **multiprocessing** module instead, which launches separate processes with their own Python interpreter instances, **bypassing the GIL and utilizing multiple cores**."
      ],
      "metadata": {
        "id": "bilLE5qySkhE"
      }
    },
    {
      "cell_type": "markdown",
      "source": [
        "Python's **multiprocessing** module provides a way to create and manage separate processes, enabling true parallelism and utilization of multiple CPU cores. Unlike threads, each process has its own Python interpreter and memory space, allowing it to work independently. This makes **multiprocessing** suitable for CPU-bound tasks that can benefit from parallel execution.\n",
        "\n",
        "Here's a simple example of using Python's **multiprocessing** module:"
      ],
      "metadata": {
        "id": "NoXd2UqhTJBA"
      }
    },
    {
      "cell_type": "code",
      "source": [
        "import multiprocessing\n",
        "import time\n",
        "\n",
        "# Define a function that simulates a time-consuming task\n",
        "def task(name):\n",
        "    print(f\"Task {name} started.\")\n",
        "    time.sleep(2)  # Simulate work\n",
        "    print(f\"Task {name} completed.\")\n",
        "\n",
        "if __name__ == \"__main__\":\n",
        "    # Create two processes to perform the task concurrently\n",
        "    process1 = multiprocessing.Process(target=task, args=(\"A\",))\n",
        "    process2 = multiprocessing.Process(target=task, args=(\"B\",))\n",
        "\n",
        "    # Start the processes\n",
        "    process1.start()\n",
        "    process2.start()\n",
        "\n",
        "    # Wait for both processes to finish\n",
        "    process1.join()\n",
        "    process2.join()\n",
        "\n",
        "    print(\"All tasks completed.\")\n"
      ],
      "metadata": {
        "colab": {
          "base_uri": "https://localhost:8080/"
        },
        "id": "Uwc3hHtKTIJA",
        "outputId": "422aa311-290a-4805-bf9d-0a969e5813dc"
      },
      "execution_count": 2,
      "outputs": [
        {
          "output_type": "stream",
          "name": "stdout",
          "text": [
            "Task A started.\n",
            "Task B started.\n",
            "Task A completed.\n",
            "Task B completed.\n",
            "All tasks completed.\n"
          ]
        }
      ]
    },
    {
      "cell_type": "markdown",
      "source": [
        "In this example, two processes are created to run the **task** function concurrently. Each process performs the task with a simulated 2-second delay. The **start()** method is called on each process to initiate their execution. The **join()** method is used to wait for both processes to complete before moving on to the final print statement.\n",
        "\n",
        "Because each process runs in its own interpreter and memory space, the GIL (Global Interpreter Lock) limitation doesn't apply to **multiprocessing**. This allows for true parallel execution of CPU-bound tasks on multiple cores."
      ],
      "metadata": {
        "id": "cZntX3-3TbVx"
      }
    }
  ]
}