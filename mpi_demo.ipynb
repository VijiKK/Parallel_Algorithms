{
  "nbformat": 4,
  "nbformat_minor": 0,
  "metadata": {
    "colab": {
      "provenance": [],
      "gpuType": "T4",
      "authorship_tag": "ABX9TyOLEQuFi/5LJ2rhwE37Yyzf",
      "include_colab_link": true
    },
    "kernelspec": {
      "name": "python3",
      "display_name": "Python 3"
    },
    "language_info": {
      "name": "python"
    },
    "accelerator": "GPU"
  },
  "cells": [
    {
      "cell_type": "markdown",
      "metadata": {
        "id": "view-in-github",
        "colab_type": "text"
      },
      "source": [
        "<a href=\"https://colab.research.google.com/github/VijiKK/Parallel_Algorithms/blob/main/mpi_demo.ipynb\" target=\"_parent\"><img src=\"https://colab.research.google.com/assets/colab-badge.svg\" alt=\"Open In Colab\"/></a>"
      ]
    },
    {
      "cell_type": "markdown",
      "source": [
        "# **MPI demo 1**"
      ],
      "metadata": {
        "id": "nrS53fgLcSS0"
      }
    },
    {
      "cell_type": "markdown",
      "source": [
        "# Before executing MPI code, **change runtime type to GPU**"
      ],
      "metadata": {
        "id": "6MWa5vsTb5-o"
      }
    },
    {
      "cell_type": "code",
      "source": [
        "!nvidia-smi"
      ],
      "metadata": {
        "colab": {
          "base_uri": "https://localhost:8080/"
        },
        "id": "uJ0vipYQbvZ6",
        "outputId": "d98c2523-7eb0-423d-b674-b33d79fdcf08"
      },
      "execution_count": 1,
      "outputs": [
        {
          "output_type": "stream",
          "name": "stdout",
          "text": [
            "Mon Aug 28 23:16:52 2023       \n",
            "+-----------------------------------------------------------------------------+\n",
            "| NVIDIA-SMI 525.105.17   Driver Version: 525.105.17   CUDA Version: 12.0     |\n",
            "|-------------------------------+----------------------+----------------------+\n",
            "| GPU  Name        Persistence-M| Bus-Id        Disp.A | Volatile Uncorr. ECC |\n",
            "| Fan  Temp  Perf  Pwr:Usage/Cap|         Memory-Usage | GPU-Util  Compute M. |\n",
            "|                               |                      |               MIG M. |\n",
            "|===============================+======================+======================|\n",
            "|   0  Tesla T4            Off  | 00000000:00:04.0 Off |                    0 |\n",
            "| N/A   47C    P8    10W /  70W |      0MiB / 15360MiB |      0%      Default |\n",
            "|                               |                      |                  N/A |\n",
            "+-------------------------------+----------------------+----------------------+\n",
            "                                                                               \n",
            "+-----------------------------------------------------------------------------+\n",
            "| Processes:                                                                  |\n",
            "|  GPU   GI   CI        PID   Type   Process name                  GPU Memory |\n",
            "|        ID   ID                                                   Usage      |\n",
            "|=============================================================================|\n",
            "|  No running processes found                                                 |\n",
            "+-----------------------------------------------------------------------------+\n"
          ]
        }
      ]
    },
    {
      "cell_type": "code",
      "execution_count": 2,
      "metadata": {
        "colab": {
          "base_uri": "https://localhost:8080/"
        },
        "id": "LJSri_8vbkPq",
        "outputId": "db35bea5-4685-4223-f3a3-d26752522707"
      },
      "outputs": [
        {
          "output_type": "stream",
          "name": "stdout",
          "text": [
            "Writing mpi_demo_1.c\n"
          ]
        }
      ],
      "source": [
        "%%writefile mpi_demo_1.c\n",
        "#include <mpi.h>\n",
        "#include <stdio.h>\n",
        "\n",
        "int main(int argc, char *argv[])\n",
        "{\n",
        "    int rank, np;\n",
        "\n",
        "    MPI_Init(&argc, &argv);\n",
        "\n",
        "    MPI_Comm_rank(MPI_COMM_WORLD, &rank);\n",
        "    MPI_Comm_size(MPI_COMM_WORLD, &np);\n",
        "\n",
        "    //if (np != 2)\n",
        "    //{\n",
        "     //   MPI_Abort(MPI_COMM_WORLD, -1);\n",
        "    //}\n",
        "\n",
        "\n",
        "    int msg=0;\n",
        "\n",
        "    if (rank == 0)\n",
        "    {\n",
        "        msg=9995823;\n",
        "\n",
        "        // send 1 int to rank=1\n",
        "\tfor(int i=1; i<5; i++){\n",
        "        MPI_Send(&msg, 1, MPI_INT, i, 0, MPI_COMM_WORLD);\n",
        "        printf (\"%d -- sent message\\n\", rank);\n",
        "  \t}\n",
        "\n",
        "    }\n",
        "    else                        /* rank must be 1 since np=2 */\n",
        "    {\n",
        "        MPI_Recv(&msg, 1, MPI_INT, 0, 0, MPI_COMM_WORLD, MPI_STATUS_IGNORE);\n",
        "        printf (\"%d -- received message %d\\n\", rank, msg);\n",
        "    }\n",
        "\n",
        "\n",
        "\n",
        "    MPI_Finalize();\n",
        "    return 0;\n",
        "}\n"
      ]
    },
    {
      "cell_type": "code",
      "source": [
        "!mpicc mpi_demo_1.c -o mpi_demo_1_out.out && mpirun -n 4 --use-hwthread-cpus --oversubscribe --allow-run-as-root mpi_demo_1_out.out\n"
      ],
      "metadata": {
        "colab": {
          "base_uri": "https://localhost:8080/"
        },
        "id": "YvvCkiRzcKVl",
        "outputId": "cdb1503e-bc54-4e92-e5ee-53c50ccc3732"
      },
      "execution_count": 9,
      "outputs": [
        {
          "output_type": "stream",
          "name": "stdout",
          "text": [
            "0 -- sent message\n",
            "1 -- received message 9995823\n",
            "[6946e2f0e585:02127] *** An error occurred in MPI_Send\n",
            "[6946e2f0e585:02127] *** reported by process [1481900033,0]\n",
            "[6946e2f0e585:02127] *** on communicator MPI_COMM_WORLD\n",
            "[6946e2f0e585:02127] *** MPI_ERR_RANK: invalid rank\n",
            "[6946e2f0e585:02127] *** MPI_ERRORS_ARE_FATAL (processes in this communicator will now abort,\n",
            "[6946e2f0e585:02127] ***    and potentially your MPI job)\n"
          ]
        }
      ]
    },
    {
      "cell_type": "markdown",
      "source": [
        "# **MPI demo 2**"
      ],
      "metadata": {
        "id": "yTLtT8oedCm5"
      }
    },
    {
      "cell_type": "code",
      "source": [
        "%%writefile mpi_demo_2.c\n",
        "\n",
        "#include <mpi.h>\n",
        "#include <stdio.h>\n",
        "\n",
        "int main(int argc, char *argv[])\n",
        "{\n",
        "    int rank, np;\n",
        "\n",
        "    MPI_Init(&argc, &argv);\n",
        "\n",
        "    MPI_Comm_rank(MPI_COMM_WORLD, &rank);\n",
        "    MPI_Comm_size(MPI_COMM_WORLD, &np);\n",
        "\n",
        "    if (np != 2)\n",
        "    {\n",
        "        MPI_Abort(MPI_COMM_WORLD, -1);\n",
        "    }\n",
        "\n",
        "\n",
        "    if (rank == 0)\n",
        "    {\n",
        "        int send_msg=9995823;\n",
        "        int recv_msg=0;\n",
        "\n",
        "        MPI_Request request[2];\n",
        "\n",
        "\n",
        "        // send 1 int to rank=1\n",
        "        MPI_Isend(&send_msg, 1, MPI_INT, 1, 0, MPI_COMM_WORLD,\n",
        "                  &request[0]);\n",
        "        printf (\"%d -- sent message\\n\", rank);\n",
        "\n",
        "\n",
        "        MPI_Irecv(&recv_msg, 1, MPI_INT, 1, 0, MPI_COMM_WORLD,\n",
        "                  &request[1]);\n",
        "        printf (\"%d -- received message %d\\n\", rank, recv_msg);\n",
        "\n",
        "\n",
        "        // calculate??\n",
        "\n",
        "        MPI_Wait(&request[0], MPI_STATUS_IGNORE);\n",
        "        MPI_Wait(&request[1], MPI_STATUS_IGNORE);\n",
        "        // now it's safe to access/modify message data\n",
        "        printf (\"%d -- received message %d\\n\", rank, recv_msg);\n",
        "\n",
        "    }\n",
        "    else                        /* rank must be 1 since np=2 */\n",
        "    {\n",
        "        int send_msg=1111111;\n",
        "        int recv_msg=0;\n",
        "\n",
        "        MPI_Request request[2];\n",
        "\n",
        "        MPI_Isend(&send_msg, 1, MPI_INT, 0, 0, MPI_COMM_WORLD,\n",
        "                  &request[0]);\n",
        "        printf (\"%d -- sent message\\n\", rank);\n",
        "\n",
        "        MPI_Irecv(&recv_msg, 1, MPI_INT, 0, 0, MPI_COMM_WORLD,\n",
        "                  &request[1]);\n",
        "        printf (\"%d -- received message %d\\n\", rank, recv_msg);\n",
        "\n",
        "        MPI_Wait(&request[0], MPI_STATUS_IGNORE);\n",
        "        MPI_Wait(&request[1], MPI_STATUS_IGNORE);\n",
        "        printf (\"%d -- received message %d\\n\", rank, recv_msg);\n",
        "\n",
        "\n",
        "    }\n",
        "\n",
        "\n",
        "\n",
        "    MPI_Finalize();\n",
        "    return 0;\n",
        "}"
      ],
      "metadata": {
        "colab": {
          "base_uri": "https://localhost:8080/"
        },
        "id": "GMrReB11clcS",
        "outputId": "7e2e9991-258b-4c77-dc6a-36816fb24e76"
      },
      "execution_count": 6,
      "outputs": [
        {
          "output_type": "stream",
          "name": "stdout",
          "text": [
            "Writing mpi_demo_2.c\n"
          ]
        }
      ]
    },
    {
      "cell_type": "code",
      "source": [
        "!mpicc mpi_demo_2.c -o mpi_demo_2_out.out && mpirun -n 2 --use-hwthread-cpus --oversubscribe --allow-run-as-root mpi_demo_2_out.out\n"
      ],
      "metadata": {
        "colab": {
          "base_uri": "https://localhost:8080/"
        },
        "id": "dcFP2tS2c90G",
        "outputId": "bc6791f0-5156-41fe-a0d1-171df1f184f8"
      },
      "execution_count": 8,
      "outputs": [
        {
          "output_type": "stream",
          "name": "stdout",
          "text": [
            "1 -- sent message\n",
            "1 -- received message 0\n",
            "1 -- received message 9995823\n",
            "0 -- sent message\n",
            "0 -- received message 0\n",
            "0 -- received message 1111111\n"
          ]
        }
      ]
    }
  ]
}