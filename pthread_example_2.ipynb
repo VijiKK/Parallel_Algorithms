{
  "nbformat": 4,
  "nbformat_minor": 0,
  "metadata": {
    "colab": {
      "provenance": [],
      "authorship_tag": "ABX9TyN9tcIz7zG6F/XWMyUHwpnq",
      "include_colab_link": true
    },
    "kernelspec": {
      "name": "python3",
      "display_name": "Python 3"
    },
    "language_info": {
      "name": "python"
    }
  },
  "cells": [
    {
      "cell_type": "markdown",
      "metadata": {
        "id": "view-in-github",
        "colab_type": "text"
      },
      "source": [
        "<a href=\"https://colab.research.google.com/github/VijiKK/Parallel_Algorithms/blob/main/pthread_example_2.ipynb\" target=\"_parent\"><img src=\"https://colab.research.google.com/assets/colab-badge.svg\" alt=\"Open In Colab\"/></a>"
      ]
    },
    {
      "cell_type": "code",
      "execution_count": 1,
      "metadata": {
        "colab": {
          "base_uri": "https://localhost:8080/"
        },
        "id": "3Ik6afb4rUwW",
        "outputId": "d730eb25-57a9-40c1-cad8-146290ff7a46"
      },
      "outputs": [
        {
          "output_type": "stream",
          "name": "stdout",
          "text": [
            "Writing pthread_example_2.c\n"
          ]
        }
      ],
      "source": [
        "%%writefile pthread_example_2.c\n",
        "\n",
        "/* build with  gcc -Wall -O3 -pthread pthread1.c */\n",
        "#include <stdio.h>\n",
        "#include <pthread.h>\n",
        "#include <stdlib.h>\n",
        "#include <unistd.h>\n",
        "\n",
        "#define NUM_THREADS 10\n",
        "\n",
        "/* This variable is available to every thread, but unsynchronized read/write\n",
        " * access to the variable will lead to problems. */\n",
        "int global=0;\n",
        "\n",
        "\n",
        "/* Pthreads entry point */\n",
        "void* threadfunc(void* arg)\n",
        "{\n",
        "    /* follow the arg pointer to the integer passed in.  This is a flexible\n",
        "     * approach in that it allows for arbitrarily complex argument data to be\n",
        "     * used */\n",
        "    int rank=*(int*)arg;\n",
        "\n",
        "    /* alternately, the value could be packed into the void*\n",
        "    int rank=(int)(long int)arg;\n",
        "    */\n",
        "\n",
        "    /* Dangerous accesses of global ...*/\n",
        "    global++;\n",
        "    printf(\"thread %d -- %d\\n\", rank, global);\n",
        "    sleep(1);\n",
        "\n",
        "\n",
        "    /* Either one of these approaches will return `rank + 100' to the spawning\n",
        "     * thread, retrievable in pthread_join.\n",
        "\n",
        "     It works by squeezing the numeric value into the 8-byte void* For more\n",
        "     complex return data, you should think about dynamic memory management or\n",
        "     a return struct passed in by the caller.\n",
        "     */\n",
        "\n",
        "\n",
        "    return (void*)(long int)(rank+100);\n",
        "    /*\n",
        "      use pthread_exit when threads call multiple subroutines and returning all\n",
        "      the way is impractical\n",
        "\n",
        "      pthread_exit( (void*)(long int)(rank+100) );\n",
        "      return NULL;\n",
        "    */\n",
        "\n",
        "\n",
        "}\n",
        "\n",
        "int main(int argc, char *argv[])\n",
        "{\n",
        "    printf(\"at start\\n\");\n",
        "\n",
        "    /* Stack-allocated thread id's and individual thread arguments */\n",
        "    pthread_t tid[NUM_THREADS];\n",
        "    int args[NUM_THREADS];\n",
        "\n",
        "    for (int i=0; i< NUM_THREADS; i++)\n",
        "    {\n",
        "        args[i]=i;\n",
        "        pthread_create(&tid[i], NULL, threadfunc, &args[i]);\n",
        "\n",
        "        /* alternately, stuff that into into the void* ...\n",
        "           pthread_create(&tid[i], NULL, threadfunc, (void*)(long int)i);\n",
        "        */\n",
        "    }\n",
        "    printf(\"waiting for children\\n\");\n",
        "\n",
        "\n",
        "    for (int i=0; i< NUM_THREADS; i++)\n",
        "    {\n",
        "        void* ret;\n",
        "        pthread_join(tid[i], &ret);\n",
        "        int answer=(int)(long int)ret;\n",
        "        printf(\"thread %d returned %d\\n\", i, answer);\n",
        "\n",
        "        //        pthread_cancel to end threads before they're finished\n",
        "    }\n",
        "\n",
        "\n",
        "    // pthread_join(tid, NULL);\n",
        "    printf(\"after join\\n\");\n",
        "\n",
        "\n",
        "    return 0;\n",
        "}\n"
      ]
    },
    {
      "cell_type": "code",
      "source": [
        "ls -l"
      ],
      "metadata": {
        "colab": {
          "base_uri": "https://localhost:8080/"
        },
        "id": "2DVlDPqTsjJh",
        "outputId": "0ac5d280-661a-4c60-b57f-88b7feac9f07"
      },
      "execution_count": 3,
      "outputs": [
        {
          "output_type": "stream",
          "name": "stdout",
          "text": [
            "total 24\n",
            "-rw-r--r-- 1 root root  2222 Aug 28 01:06 pthread_example_2.c\n",
            "-rwxr-xr-x 1 root root 16272 Aug 28 01:12 \u001b[0m\u001b[01;32mpthread_example_2_output\u001b[0m*\n",
            "drwxr-xr-x 1 root root  4096 Aug 24 21:25 \u001b[01;34msample_data\u001b[0m/\n"
          ]
        }
      ]
    },
    {
      "cell_type": "code",
      "source": [
        "%%shell\n",
        "\n",
        "gcc pthread_example_2.c -o pthread_example_2_output\n",
        "./pthread_example_2_output"
      ],
      "metadata": {
        "colab": {
          "base_uri": "https://localhost:8080/"
        },
        "id": "tckPkykjrcmP",
        "outputId": "fa22a18e-6c17-40de-82a5-64694a19d3ae"
      },
      "execution_count": 6,
      "outputs": [
        {
          "output_type": "stream",
          "name": "stdout",
          "text": [
            "at start\n",
            "waiting for children\n",
            "thread 2 -- 1\n",
            "thread 3 -- 2\n",
            "thread 4 -- 3\n",
            "thread 5 -- 4\n",
            "thread 6 -- 5\n",
            "thread 7 -- 6\n",
            "thread 8 -- 7\n",
            "thread 9 -- 8\n",
            "thread 1 -- 9\n",
            "thread 0 -- 10\n",
            "thread 0 returned 100\n",
            "thread 1 returned 101\n",
            "thread 2 returned 102\n",
            "thread 3 returned 103\n",
            "thread 4 returned 104\n",
            "thread 5 returned 105\n",
            "thread 6 returned 106\n",
            "thread 7 returned 107\n",
            "thread 8 returned 108\n",
            "thread 9 returned 109\n",
            "after join\n"
          ]
        },
        {
          "output_type": "execute_result",
          "data": {
            "text/plain": []
          },
          "metadata": {},
          "execution_count": 6
        }
      ]
    }
  ]
}