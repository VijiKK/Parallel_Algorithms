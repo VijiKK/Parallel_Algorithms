{
  "nbformat": 4,
  "nbformat_minor": 0,
  "metadata": {
    "colab": {
      "provenance": [],
      "authorship_tag": "ABX9TyOhpKt9yIfBeg6rcEvl0VxX",
      "include_colab_link": true
    },
    "kernelspec": {
      "name": "python3",
      "display_name": "Python 3"
    },
    "language_info": {
      "name": "python"
    }
  },
  "cells": [
    {
      "cell_type": "markdown",
      "metadata": {
        "id": "view-in-github",
        "colab_type": "text"
      },
      "source": [
        "<a href=\"https://colab.research.google.com/github/VijiKK/Parallel_Algorithms/blob/main/pthread.ipynb\" target=\"_parent\"><img src=\"https://colab.research.google.com/assets/colab-badge.svg\" alt=\"Open In Colab\"/></a>"
      ]
    },
    {
      "cell_type": "markdown",
      "source": [
        "**Pthreads (POSIX Threads):**\n",
        "\n",
        "Pthreads, short for POSIX Threads, is a standardized API for creating and managing threads in a multi-threaded program. It is commonly used on Unix-like operating systems to achieve parallelism through thread-based concurrency. Pthreads provide a way to create, synchronize, and manage threads, enabling developers to exploit multi-core processors.\n",
        "\n",
        "**Example Code:**\n",
        "\n",
        "Here's a simple example of using Pthreads in C to create and manage two threads that perform a task concurrently:"
      ],
      "metadata": {
        "id": "HHkUrfpJqD3k"
      }
    },
    {
      "cell_type": "markdown",
      "source": [
        "To run c or c++ program in colab,\n",
        "\n",
        "\n",
        "1.   Write file to .c or .cpp file by using %%writefile\n",
        "2.   Use shell command to compile and excecute\n",
        "\n",
        "\n"
      ],
      "metadata": {
        "id": "PYqXsA5ArtSI"
      }
    },
    {
      "cell_type": "code",
      "source": [
        "%%writefile pthread_example.c\n",
        "\n",
        "#include <stdio.h>\n",
        "#include <pthread.h>\n",
        "\n",
        "// Function executed by each thread\n",
        "void* task(void* arg){\n",
        "    int thread_id = *((int*)arg);\n",
        "    printf(\"Thread %d started.\\n\", thread_id);\n",
        "    // Simulate work\n",
        "    for (int i = 0; i < 3; i++) {\n",
        "        printf(\"Thread %d working...\\n\", thread_id);\n",
        "    }\n",
        "    printf(\"Thread %d completed.\\n\", thread_id);\n",
        "    pthread_exit(NULL);\n",
        "}\n",
        "\n",
        "int main() {\n",
        "    pthread_t thread1, thread2;\n",
        "    int id1 = 1, id2 = 2;\n",
        "\n",
        "    // Create threads\n",
        "    pthread_create(&thread1, NULL, task, (void*)&id1);\n",
        "    pthread_create(&thread2, NULL, task, (void*)&id2);\n",
        "\n",
        "    // Wait for threads to finish\n",
        "    pthread_join(thread1, NULL);\n",
        "    pthread_join(thread2, NULL);\n",
        "\n",
        "    printf(\"All threads completed.\\n\");\n",
        "\n",
        "    return 0;\n",
        "}\n"
      ],
      "metadata": {
        "colab": {
          "base_uri": "https://localhost:8080/"
        },
        "id": "Bq0CZSmWqJWI",
        "outputId": "b135dc84-50b3-4676-98a4-9d54cb7e901e"
      },
      "execution_count": null,
      "outputs": [
        {
          "output_type": "stream",
          "name": "stdout",
          "text": [
            "Writing pthread_example.c\n"
          ]
        }
      ]
    },
    {
      "cell_type": "code",
      "source": [
        "ls -l"
      ],
      "metadata": {
        "colab": {
          "base_uri": "https://localhost:8080/"
        },
        "id": "Uee24gCgq7QE",
        "outputId": "31095498-f78d-431c-aa0b-c66d5771e326"
      },
      "execution_count": null,
      "outputs": [
        {
          "output_type": "stream",
          "name": "stdout",
          "text": [
            "total 8\n",
            "-rw-r--r-- 1 root root  735 Aug 28 01:04 pthread_example.c\n",
            "drwxr-xr-x 1 root root 4096 Aug 24 21:25 \u001b[0m\u001b[01;34msample_data\u001b[0m/\n"
          ]
        }
      ]
    },
    {
      "cell_type": "code",
      "source": [
        "%%shell\n",
        "\n",
        "gcc pthread_example.c -o pthread_example_output"
      ],
      "metadata": {
        "colab": {
          "base_uri": "https://localhost:8080/"
        },
        "id": "Wj0kh_ObrBQk",
        "outputId": "05b5d936-50ef-4fc4-a269-7e3433df5a17"
      },
      "execution_count": null,
      "outputs": [
        {
          "output_type": "execute_result",
          "data": {
            "text/plain": []
          },
          "metadata": {},
          "execution_count": 13
        }
      ]
    },
    {
      "cell_type": "code",
      "source": [
        "%%shell\n",
        "./pthread_example_output"
      ],
      "metadata": {
        "colab": {
          "base_uri": "https://localhost:8080/"
        },
        "id": "rYshROKnrM8-",
        "outputId": "921585f6-d58d-48f9-b559-6c228e638f2a"
      },
      "execution_count": null,
      "outputs": [
        {
          "output_type": "stream",
          "name": "stdout",
          "text": [
            "Thread 2 started.\n",
            "Thread 2 working...\n",
            "Thread 2 working...\n",
            "Thread 2 working...\n",
            "Thread 2 completed.\n",
            "Thread 1 started.\n",
            "Thread 1 working...\n",
            "Thread 1 working...\n",
            "Thread 1 working...\n",
            "Thread 1 completed.\n",
            "All threads completed.\n"
          ]
        },
        {
          "output_type": "execute_result",
          "data": {
            "text/plain": []
          },
          "metadata": {},
          "execution_count": 15
        }
      ]
    },
    {
      "cell_type": "markdown",
      "source": [
        "In this example, the **pthread_create** function is used to create two threads, each executing the **task** function concurrently. The **pthread_join** function is used to wait for both threads to complete before continuing. The **pthread_exit** function is called in the **task** function to exit the thread.\n",
        "\n",
        "Remember that Pthreads is specific to C programming and Unix-like operating systems. Different operating systems may have variations in their implementation of the Pthreads API."
      ],
      "metadata": {
        "id": "qxLTWlqvreQu"
      }
    }
  ]
}