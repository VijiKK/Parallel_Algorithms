{
  "nbformat": 4,
  "nbformat_minor": 0,
  "metadata": {
    "colab": {
      "provenance": [],
      "gpuType": "T4",
      "authorship_tag": "ABX9TyPoCiAUv4HCw+4CfcUPxnTu",
      "include_colab_link": true
    },
    "kernelspec": {
      "name": "python3",
      "display_name": "Python 3"
    },
    "language_info": {
      "name": "python"
    },
    "accelerator": "GPU"
  },
  "cells": [
    {
      "cell_type": "markdown",
      "metadata": {
        "id": "view-in-github",
        "colab_type": "text"
      },
      "source": [
        "<a href=\"https://colab.research.google.com/github/VijiKK/Parallel_Algorithms/blob/main/mpi_hello.ipynb\" target=\"_parent\"><img src=\"https://colab.research.google.com/assets/colab-badge.svg\" alt=\"Open In Colab\"/></a>"
      ]
    },
    {
      "cell_type": "code",
      "execution_count": 1,
      "metadata": {
        "colab": {
          "base_uri": "https://localhost:8080/"
        },
        "id": "mUI3mdHWV3ra",
        "outputId": "3611886c-f8d6-42aa-8e54-6cbc3b70769b"
      },
      "outputs": [
        {
          "output_type": "stream",
          "name": "stdout",
          "text": [
            "Mon Aug 28 23:09:32 2023       \n",
            "+-----------------------------------------------------------------------------+\n",
            "| NVIDIA-SMI 525.105.17   Driver Version: 525.105.17   CUDA Version: 12.0     |\n",
            "|-------------------------------+----------------------+----------------------+\n",
            "| GPU  Name        Persistence-M| Bus-Id        Disp.A | Volatile Uncorr. ECC |\n",
            "| Fan  Temp  Perf  Pwr:Usage/Cap|         Memory-Usage | GPU-Util  Compute M. |\n",
            "|                               |                      |               MIG M. |\n",
            "|===============================+======================+======================|\n",
            "|   0  Tesla T4            Off  | 00000000:00:04.0 Off |                    0 |\n",
            "| N/A   48C    P8     9W /  70W |      0MiB / 15360MiB |      0%      Default |\n",
            "|                               |                      |                  N/A |\n",
            "+-------------------------------+----------------------+----------------------+\n",
            "                                                                               \n",
            "+-----------------------------------------------------------------------------+\n",
            "| Processes:                                                                  |\n",
            "|  GPU   GI   CI        PID   Type   Process name                  GPU Memory |\n",
            "|        ID   ID                                                   Usage      |\n",
            "|=============================================================================|\n",
            "|  No running processes found                                                 |\n",
            "+-----------------------------------------------------------------------------+\n"
          ]
        }
      ],
      "source": [
        "!nvidia-smi"
      ]
    },
    {
      "cell_type": "code",
      "source": [
        "%%writefile mpi_hello.c\n",
        "\n",
        "#include <mpi.h>\n",
        "#include <stdio.h>\n",
        "\n",
        "int main(int argc, char *argv[])\n",
        "{\n",
        "    int rank, np;\n",
        "\n",
        "    int namelen;\n",
        "    char name[MPI_MAX_PROCESSOR_NAME];\n",
        "\n",
        "\n",
        "    MPI_Init(&argc, &argv);\n",
        "\n",
        "    MPI_Comm_rank(MPI_COMM_WORLD, &rank);    // routine for each process to know it's rank\n",
        "    MPI_Comm_size(MPI_COMM_WORLD, &np);\n",
        "\n",
        "    MPI_Get_processor_name(name, &namelen);\n",
        "\n",
        "    printf(\"rank %d / %d -- %s\\n\", rank, np, name);\n",
        "\n",
        "\n",
        "    MPI_Finalize();\n",
        "    return 0;\n",
        "}\n"
      ],
      "metadata": {
        "colab": {
          "base_uri": "https://localhost:8080/"
        },
        "id": "54s5M_HBWEoZ",
        "outputId": "25728290-14b2-4ad1-fae4-bcf78e4ba09f"
      },
      "execution_count": 2,
      "outputs": [
        {
          "output_type": "stream",
          "name": "stdout",
          "text": [
            "Writing mpi_hello.c\n"
          ]
        }
      ]
    },
    {
      "cell_type": "code",
      "source": [
        "\n",
        "# !mpicc mpi_hello.c && mpirun -n 4 --use-hwthread-cpus --allow-run-as-root mpi_hello\n",
        "!mpicc mpi_hello.c -o mpi_hello.out && mpirun -n 4 --use-hwthread-cpus --oversubscribe --allow-run-as-root mpi_hello.out\n"
      ],
      "metadata": {
        "colab": {
          "base_uri": "https://localhost:8080/"
        },
        "id": "PcOVuHXFWLSF",
        "outputId": "a1048090-4128-464a-bf05-a9609a501e66"
      },
      "execution_count": 12,
      "outputs": [
        {
          "output_type": "stream",
          "name": "stdout",
          "text": [
            "rank 0 / 4 -- 97b7e58bc9de\n",
            "rank 1 / 4 -- 97b7e58bc9de\n",
            "rank 2 / 4 -- 97b7e58bc9de\n",
            "rank 3 / 4 -- 97b7e58bc9de\n"
          ]
        }
      ]
    }
  ]
}