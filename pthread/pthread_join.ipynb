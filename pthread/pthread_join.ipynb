{
  "nbformat": 4,
  "nbformat_minor": 0,
  "metadata": {
    "colab": {
      "provenance": [],
      "authorship_tag": "ABX9TyOat/V3yjx0sM2brZj8XwKm",
      "include_colab_link": true
    },
    "kernelspec": {
      "name": "python3",
      "display_name": "Python 3"
    },
    "language_info": {
      "name": "python"
    }
  },
  "cells": [
    {
      "cell_type": "markdown",
      "metadata": {
        "id": "view-in-github",
        "colab_type": "text"
      },
      "source": [
        "<a href=\"https://colab.research.google.com/github/VijiKK/Parallel_Algorithms/blob/main/pthread_join.ipynb\" target=\"_parent\"><img src=\"https://colab.research.google.com/assets/colab-badge.svg\" alt=\"Open In Colab\"/></a>"
      ]
    },
    {
      "cell_type": "code",
      "execution_count": 1,
      "metadata": {
        "colab": {
          "base_uri": "https://localhost:8080/"
        },
        "id": "Qma1Ef2btGpB",
        "outputId": "1fcb1243-75a4-46d5-8250-5dbf95eda12d"
      },
      "outputs": [
        {
          "output_type": "stream",
          "name": "stdout",
          "text": [
            "Writing pthread_join_example.c\n"
          ]
        }
      ],
      "source": [
        "%%writefile pthread_join_example.c\n",
        "\n",
        "#include <pthread.h>\n",
        "#include <stdio.h>\n",
        "#include <stdlib.h>\n",
        "#include <math.h>\n",
        "#define NUM_THREADS 4\n",
        "void *BusyWork(void *t)\n",
        "{\n",
        "\tint i;\n",
        "\tlong tid;\n",
        "\tdouble result=0.0;\n",
        "\ttid = (long)t;\n",
        "\tprintf(\"Thread %ld starting...\\n\",tid);\n",
        "\tfor (i=0; i<1000000; i++)\n",
        "\t{\n",
        "\t\tresult = result + i * 100;\n",
        "\t}\n",
        "\tprintf(\"Thread %ld done. Result = %e\\n\",tid, result);\n",
        "\tpthread_exit((void*) t);\n",
        "\t}\n",
        "int main (int argc, char *argv[])\n",
        "{\n",
        "\tpthread_t thread[NUM_THREADS];\n",
        "\tpthread_attr_t attr;\n",
        "\tint rc;\n",
        "\tlong t;\n",
        "\tvoid *status;\n",
        "/* Initialize and set thread detached attribute */\n",
        "\tpthread_attr_init(&attr);\n",
        "\tpthread_attr_setdetachstate(&attr, PTHREAD_CREATE_JOINABLE);\n",
        "\tfor(t=0; t<NUM_THREADS; t++) {\n",
        "\t\tprintf(\"Main: creating thread %ld\\n\", t);\n",
        "\t\trc = pthread_create(&thread[t], &attr, BusyWork, (void *)t);\n",
        "\t\tif (rc) {\n",
        "\t\t\tprintf(\"ERROR; return code from pthread_create() is %d\\n\", rc);\n",
        "\t\t\texit(-1);\n",
        "\t\t}\n",
        "\t\t}\n",
        "/* Free attribute and wait for the other threads */\n",
        "\tpthread_attr_destroy(&attr);\n",
        "\tfor(t=0; t<NUM_THREADS; t++) {\n",
        "\t\trc = pthread_join(thread[t], &status);\n",
        "\t\tif (rc) {\n",
        "\t\t\tprintf(\"ERROR; return code from pthread_join() is %d\\n\", rc);\n",
        "\t\t\texit(-1);\n",
        "\t\t}\n",
        "\tprintf(\"Main: completed join with thread %ld having a status of %ld\\n\",t,(long)status);\n",
        "\t}\n",
        "\tprintf(\"Main: program completed. Exiting.\\n\");\n",
        "\tpthread_exit(NULL);\n",
        "}"
      ]
    },
    {
      "cell_type": "code",
      "source": [
        "ls -l"
      ],
      "metadata": {
        "colab": {
          "base_uri": "https://localhost:8080/"
        },
        "id": "6rftNS9ztYDA",
        "outputId": "932668af-1cb4-4cad-bc9c-b727d13deb24"
      },
      "execution_count": 2,
      "outputs": [
        {
          "output_type": "stream",
          "name": "stdout",
          "text": [
            "total 8\n",
            "-rw-r--r-- 1 root root 1283 Aug 28 01:15 pthread_join_example.c\n",
            "drwxr-xr-x 1 root root 4096 Aug 24 21:25 \u001b[0m\u001b[01;34msample_data\u001b[0m/\n"
          ]
        }
      ]
    },
    {
      "cell_type": "code",
      "source": [
        "%%shell\n",
        "\n",
        "gcc pthread_join_example.c -o pthread_join_example_output\n",
        "./pthread_join_example_output"
      ],
      "metadata": {
        "colab": {
          "base_uri": "https://localhost:8080/"
        },
        "id": "EJ0qfdx_tZ5u",
        "outputId": "706f6272-9110-4c66-9f02-59f995907833"
      },
      "execution_count": 3,
      "outputs": [
        {
          "output_type": "stream",
          "name": "stdout",
          "text": [
            "Main: creating thread 0\n",
            "Main: creating thread 1\n",
            "Thread 0 starting...\n",
            "Main: creating thread 2\n",
            "Main: creating thread 3\n",
            "Thread 1 starting...\n",
            "Thread 3 starting...\n",
            "Thread 0 done. Result = 4.999995e+13\n",
            "Main: completed join with thread 0 having a status of 0\n",
            "Thread 2 starting...\n",
            "Thread 3 done. Result = 4.999995e+13\n",
            "Thread 1 done. Result = 4.999995e+13\n",
            "Main: completed join with thread 1 having a status of 1\n",
            "Thread 2 done. Result = 4.999995e+13\n",
            "Main: completed join with thread 2 having a status of 2\n",
            "Main: completed join with thread 3 having a status of 3\n",
            "Main: program completed. Exiting.\n"
          ]
        },
        {
          "output_type": "execute_result",
          "data": {
            "text/plain": []
          },
          "metadata": {},
          "execution_count": 3
        }
      ]
    }
  ]
}
